{
 "cells": [
  {
   "cell_type": "markdown",
   "id": "d37630db",
   "metadata": {},
   "source": [
    "# Name - Kumkum Gehlot\n",
    "# Social Distance Detection Program"
   ]
  },
  {
   "cell_type": "markdown",
   "id": "b0bb1f2a",
   "metadata": {},
   "source": [
    "## Section 1: Importing libraries and YOLOv3 configs"
   ]
  },
  {
   "cell_type": "code",
   "execution_count": 2,
   "id": "b80eb1a9",
   "metadata": {},
   "outputs": [
    {
     "name": "stdout",
     "output_type": "stream",
     "text": [
      "Collecting package metadata (current_repodata.json): ...working... done\n",
      "Solving environment: ...working... done\n",
      "\n",
      "## Package Plan ##\n",
      "\n",
      "  environment location: C:\\Users\\Harsh\\anaconda\n",
      "\n",
      "  added / updated specs:\n",
      "    - pip\n",
      "\n",
      "\n",
      "The following packages will be downloaded:\n",
      "\n",
      "    package                    |            build\n",
      "    ---------------------------|-----------------\n",
      "    conda-4.10.3               |   py38haa95532_0         2.9 MB\n",
      "    ------------------------------------------------------------\n",
      "                                           Total:         2.9 MB\n",
      "\n",
      "The following packages will be UPDATED:\n",
      "\n",
      "  conda                               4.10.1-py38haa95532_1 --> 4.10.3-py38haa95532_0\n",
      "\n",
      "\n",
      "\n",
      "Downloading and Extracting Packages\n",
      "\n",
      "conda-4.10.3         | 2.9 MB    |            |   0% \n",
      "conda-4.10.3         | 2.9 MB    |            |   1% \n",
      "conda-4.10.3         | 2.9 MB    | 2          |   3% \n",
      "conda-4.10.3         | 2.9 MB    | #          |  11% \n",
      "conda-4.10.3         | 2.9 MB    | ##6        |  27% \n",
      "conda-4.10.3         | 2.9 MB    | ####3      |  44% \n",
      "conda-4.10.3         | 2.9 MB    | #####5     |  55% \n",
      "conda-4.10.3         | 2.9 MB    | ######6    |  66% \n",
      "conda-4.10.3         | 2.9 MB    | ########1  |  81% \n",
      "conda-4.10.3         | 2.9 MB    | #########8 |  98% \n",
      "conda-4.10.3         | 2.9 MB    | ########## | 100% \n",
      "Preparing transaction: ...working... done\n",
      "Verifying transaction: ...working... done\n",
      "Executing transaction: ...working... done\n",
      "\n",
      "Note: you may need to restart the kernel to use updated packages.\n"
     ]
    }
   ],
   "source": [
    "conda install pip"
   ]
  },
  {
   "cell_type": "code",
   "execution_count": 3,
   "id": "9ed08e90",
   "metadata": {},
   "outputs": [
    {
     "name": "stdout",
     "output_type": "stream",
     "text": [
      "Collecting imutils\n",
      "  Downloading imutils-0.5.4.tar.gz (17 kB)\n",
      "Building wheels for collected packages: imutils\n",
      "  Building wheel for imutils (setup.py): started\n",
      "  Building wheel for imutils (setup.py): finished with status 'done'\n",
      "  Created wheel for imutils: filename=imutils-0.5.4-py3-none-any.whl size=25860 sha256=1e78a21593e009f5075b7419d8f8cd4d22801c00db6556cac6e9110a9196b17e\n",
      "  Stored in directory: c:\\users\\harsh\\appdata\\local\\pip\\cache\\wheels\\59\\1b\\52\\0dea905f8278d5514dc4d0be5e251967f8681670cadd3dca89\n",
      "Successfully built imutils\n",
      "Installing collected packages: imutils\n",
      "Successfully installed imutils-0.5.4\n",
      "Note: you may need to restart the kernel to use updated packages.\n"
     ]
    }
   ],
   "source": [
    "pip install imutils"
   ]
  },
  {
   "cell_type": "code",
   "execution_count": 4,
   "id": "1b9d9b20",
   "metadata": {},
   "outputs": [
    {
     "name": "stdout",
     "output_type": "stream",
     "text": [
      "Collecting opencv-python\n",
      "  Downloading opencv_python-4.5.3.56-cp38-cp38-win_amd64.whl (34.9 MB)\n",
      "Requirement already satisfied: numpy>=1.17.3 in c:\\users\\harsh\\anaconda\\lib\\site-packages (from opencv-python) (1.20.1)\n",
      "Installing collected packages: opencv-python\n",
      "Successfully installed opencv-python-4.5.3.56\n",
      "Note: you may need to restart the kernel to use updated packages.\n"
     ]
    }
   ],
   "source": [
    "pip install opencv-python"
   ]
  },
  {
   "cell_type": "code",
   "execution_count": 1,
   "id": "4921d72f",
   "metadata": {},
   "outputs": [],
   "source": [
    "from scipy.spatial import distance as dist\n",
    "import numpy as np\n",
    "import imutils\n",
    "import cv2\n",
    "import os"
   ]
  },
  {
   "cell_type": "code",
   "execution_count": 2,
   "id": "67ad0309",
   "metadata": {},
   "outputs": [],
   "source": [
    "# base path to YOLO directory\n",
    "MODEL_PATH = \"yolo-coco\"\n",
    "\n",
    "MIN_CONF = 0.3\n",
    "NMS_THRESH = 0.3\n",
    "\n",
    "# boolean indicating if NVIDIA CUDA GPU should be used\n",
    "USE_GPU = False\n",
    "\n",
    "# define the minimum safe distance (in pixels) that two people can be\n",
    "# from each other\n",
    "MIN_DISTANCE = 50"
   ]
  },
  {
   "cell_type": "code",
   "execution_count": 3,
   "id": "c0de9d99",
   "metadata": {},
   "outputs": [
    {
     "name": "stdout",
     "output_type": "stream",
     "text": [
      "['person', 'bicycle', 'car', 'motorbike', 'aeroplane', 'bus', 'train', 'truck', 'boat', 'traffic light', 'fire hydrant', 'stop sign', 'parking meter', 'bench', 'bird', 'cat', 'dog', 'horse', 'sheep', 'cow', 'elephant', 'bear', 'zebra', 'giraffe', 'backpack', 'umbrella', 'handbag', 'tie', 'suitcase', 'frisbee', 'skis', 'snowboard', 'sports ball', 'kite', 'baseball bat', 'baseball glove', 'skateboard', 'surfboard', 'tennis racket', 'bottle', 'wine glass', 'cup', 'fork', 'knife', 'spoon', 'bowl', 'banana', 'apple', 'sandwich', 'orange', 'broccoli', 'carrot', 'hot dog', 'pizza', 'donut', 'cake', 'chair', 'sofa', 'pottedplant', 'bed', 'diningtable', 'toilet', 'tvmonitor', 'laptop', 'mouse', 'remote', 'keyboard', 'cell phone', 'microwave', 'oven', 'toaster', 'sink', 'refrigerator', 'book', 'clock', 'vase', 'scissors', 'teddy bear', 'hair drier', 'toothbrush']\n",
      "80\n",
      "[INFO] loading YOLO from disk...\n"
     ]
    }
   ],
   "source": [
    "# load the COCO class labels our YOLO model was trained on\n",
    "labelsPath = os.path.sep.join([MODEL_PATH, \"coco.names\"])\n",
    "LABELS = open(labelsPath).read().strip().split(\"\\n\")\n",
    "\n",
    "print(LABELS)\n",
    "\n",
    "print(len(LABELS))\n",
    "\n",
    "# derive the paths to the YOLO weights and model configuration\n",
    "weightsPath = os.path.sep.join([MODEL_PATH, \"yolov3.weights\"])\n",
    "configPath = os.path.sep.join([MODEL_PATH, \"yolov3.cfg\"])\n",
    "\n",
    "# load our YOLO object detector trained on COCO dataset (80 classes)\n",
    "print(\"[INFO] loading YOLO from disk...\")\n",
    "net = cv2.dnn.readNetFromDarknet(configPath, weightsPath)"
   ]
  },
  {
   "cell_type": "markdown",
   "id": "8280c544",
   "metadata": {},
   "source": [
    "## Section 2: Using GPU for the processing "
   ]
  },
  {
   "cell_type": "code",
   "execution_count": 4,
   "id": "0d68ddb2",
   "metadata": {},
   "outputs": [],
   "source": [
    "# check if we are going to use GPU\n",
    "if USE_GPU:\n",
    "    # set CUDA as the preferable backend and target\n",
    "    print(\"Setting preferable backend and target to CUDA...\")\n",
    "    net.setPreferableBackend(cv2.dnn.DNN_BACKEND_CUDA)\n",
    "    net.setPreferableTarget(cv2.dnn.DNN_TARGET_CUDA)"
   ]
  },
  {
   "cell_type": "code",
   "execution_count": 5,
   "id": "9e86f1c8",
   "metadata": {},
   "outputs": [],
   "source": [
    "#src = cv2.cuda_GpuMat()"
   ]
  },
  {
   "cell_type": "code",
   "execution_count": 6,
   "id": "815e18a5",
   "metadata": {},
   "outputs": [],
   "source": [
    "# determine only the *output* layer names that we need from YOLO\n",
    "ln = net.getLayerNames()\n",
    "ln = [ln[i[0] - 1] for i in net.getUnconnectedOutLayers()]"
   ]
  },
  {
   "cell_type": "markdown",
   "id": "6b7c0a77",
   "metadata": {},
   "source": [
    "## Section 3: Input access (Video file and Live footage) "
   ]
  },
  {
   "cell_type": "code",
   "execution_count": 8,
   "id": "dee10691",
   "metadata": {},
   "outputs": [
    {
     "name": "stdout",
     "output_type": "stream",
     "text": [
      "Accessing video stream...\n",
      "FPS of the current video:  30.0\n",
      "Number of frames in the video:  1650.0\n"
     ]
    }
   ],
   "source": [
    "print(\"Accessing video stream...\")\n",
    "#upload the video file you want to check social distancing for- below.\n",
    "vs = cv2.VideoCapture(\"CCTV_demo.mp4\")\n",
    "#src.upload(vs)\n",
    "fps = vs.get(cv2.CAP_PROP_FPS)\n",
    "print(\"FPS of the current video: \",fps)\n",
    "\n",
    "num_frames = vs.get(cv2.CAP_PROP_FRAME_COUNT)\n",
    "print(\"Number of frames in the video: \",num_frames)\n",
    "\n",
    "writer = None"
   ]
  },
  {
   "cell_type": "code",
   "execution_count": 9,
   "id": "f63ab457",
   "metadata": {},
   "outputs": [],
   "source": [
    "#print(\"Accessing video stream...\")\n",
    "#upload the video file you want to check social distancing for- below.\n",
    "#vs = cv2.VideoCapture(0)\n",
    "#writer = None"
   ]
  },
  {
   "cell_type": "markdown",
   "id": "02c428f2",
   "metadata": {},
   "source": [
    "## Section 4: Algorithm Detecting people "
   ]
  },
  {
   "cell_type": "code",
   "execution_count": 10,
   "id": "986d93c1",
   "metadata": {},
   "outputs": [],
   "source": [
    "def detect_people(frame, net, ln, personIdx=0):\n",
    "    # grab the dimensions of the frame and  initialize the list of\n",
    "    # results\n",
    "    (H, W) = frame.shape[:2]\n",
    "    results = []\n",
    "\n",
    "    # construct a blob from the input frame and then perform a forward\n",
    "    # pass of the YOLO object detector, giving us our bounding boxes\n",
    "    # and associated probabilities\n",
    "    blob = cv2.dnn.blobFromImage(frame, 1 / 255.0, (416, 416), swapRB=True, crop=False)\n",
    "    net.setInput(blob)\n",
    "    layerOutputs = net.forward(ln)\n",
    "\n",
    "    # initialize our lists of detected bounding boxes, centroids, and\n",
    "    # confidences, respectively\n",
    "    boxes = []\n",
    "    centroids = []\n",
    "    confidences = []\n",
    "\n",
    "    # loop over each of the layer outputs\n",
    "    for output in layerOutputs:\n",
    "        # loop over each of the detections\n",
    "        for detection in output:\n",
    "            # extract the class ID and confidence (i.e., probability)\n",
    "            # of the current object detection\n",
    "            scores = detection[5:]\n",
    "            classID = np.argmax(scores)\n",
    "            confidence = scores[classID]\n",
    "\n",
    "            # filter detections by (1) ensuring that the object\n",
    "            # detected was a person and (2) that the minimum\n",
    "            # confidence is met\n",
    "            if classID == personIdx and confidence > MIN_CONF:\n",
    "                # scale the bounding box coordinates back relative to\n",
    "                # the size of the image, keeping in mind that YOLO\n",
    "                # actually returns the center (x, y)-coordinates of\n",
    "                # the bounding box followed by the boxes' width and\n",
    "                # height\n",
    "                box = detection[0:4] * np.array([W, H, W, H])\n",
    "                (centerX, centerY, width, height) = box.astype(\"int\")\n",
    "\n",
    "                # use the center (x, y)-coordinates to derive the top\n",
    "                # and and left corner of the bounding box\n",
    "                x = int(centerX - (width / 2))\n",
    "                y = int(centerY - (height / 2))\n",
    "\n",
    "                # update our list of bounding box coordinates,\n",
    "                # centroids, and confidences\n",
    "                boxes.append([x, y, int(width), int(height)])\n",
    "                centroids.append((centerX, centerY))\n",
    "                confidences.append(float(confidence))\n",
    "\n",
    "    # apply non-maxima suppression to suppress weak, overlapping\n",
    "    # bounding boxes\n",
    "    idxs = cv2.dnn.NMSBoxes(boxes, confidences, MIN_CONF, NMS_THRESH)\n",
    "\n",
    "    # ensure at least one detection exists\n",
    "    if len(idxs) > 0:\n",
    "        # loop over the indexes we are keeping\n",
    "        for i in idxs.flatten():\n",
    "            # extract the bounding box coordinates\n",
    "            (x, y) = (boxes[i][0], boxes[i][1])\n",
    "            (w, h) = (boxes[i][2], boxes[i][3])\n",
    "\n",
    "            # update our results list to consist of the person\n",
    "            # prediction probability, bounding box coordinates,\n",
    "            # and the centroid\n",
    "            r = (confidences[i], (x, y, x + w, y + h), centroids[i])\n",
    "            results.append(r)\n",
    "\n",
    "    # return the list of results\n",
    "    return results"
   ]
  },
  {
   "cell_type": "code",
   "execution_count": 11,
   "id": "fbd4d6bc",
   "metadata": {},
   "outputs": [],
   "source": [
    "display = 1\n",
    "output = \"Output_file.avi\""
   ]
  },
  {
   "cell_type": "code",
   "execution_count": null,
   "id": "a5efc10a",
   "metadata": {},
   "outputs": [],
   "source": [
    "while True:\n",
    "    # read the next frame from the file\n",
    "    (grabbed, frame) = vs.read()\n",
    "\n",
    "    # if the frame was not grabbed, then we have reached the end\n",
    "    # of the stream\n",
    "    if not grabbed:\n",
    "        break\n",
    "\n",
    "    # resize the frame and then detect people (and only people) in it\n",
    "    frame = imutils.resize(frame, width=700)\n",
    "    results = detect_people(frame, net, ln, personIdx=LABELS.index(\"person\"))\n",
    "\n",
    "    # initialize the set of indexes that violate the minimum social\n",
    "    # distance\n",
    "    violate = set()\n",
    "\n",
    "    # ensure there are *at least* two people detections (required in\n",
    "    # order to compute our pairwise distance maps)\n",
    "    if len(results) >= 2:\n",
    "        # extract all centroids from the results and compute the\n",
    "        # Euclidean distances between all pairs of the centroids\n",
    "        centroids = np.array([r[2] for r in results])\n",
    "        D = dist.cdist(centroids, centroids, metric=\"euclidean\")\n",
    "\n",
    "        # loop over the upper triangular of the distance matrix\n",
    "        for i in range(0, D.shape[0]):\n",
    "            for j in range(i + 1, D.shape[1]):\n",
    "                # check to see if the distance between any two\n",
    "                # centroid pairs is less than the configured number\n",
    "                # of pixels\n",
    "                if D[i, j] < MIN_DISTANCE:\n",
    "                    # update our violation set with the indexes of\n",
    "                    # the centroid pairs\n",
    "                    violate.add(i)\n",
    "                    violate.add(j)\n",
    "\n",
    "    # loop over the results\n",
    "    for (i, (prob, bbox, centroid)) in enumerate(results):\n",
    "        # extract the bounding box and centroid coordinates, then\n",
    "        # initialize the color of the annotation\n",
    "        (startX, startY, endX, endY) = bbox\n",
    "        (cX, cY) = centroid\n",
    "        color = (0, 255, 0)\n",
    "\n",
    "        # if the index pair exists within the violation set, then\n",
    "        # update the color\n",
    "        if i in violate:\n",
    "            color = (0, 0, 255)\n",
    "\n",
    "        # draw (1) a bounding box around the person and (2) the\n",
    "        # centroid coordinates of the person,\n",
    "        cv2.rectangle(frame, (startX, startY), (endX, endY), color, 2)\n",
    "        cv2.circle(frame, (cX, cY), 5, color, 1)\n",
    "\n",
    "    # draw the total number of social distancing violations on the\n",
    "    # output frame\n",
    "    text = \"Social Distancing Violations: {}\".format(len(violate))\n",
    "    cv2.putText(frame, text, (10, frame.shape[0] - 25), cv2.FONT_HERSHEY_SIMPLEX, 0.85, (0, 0, 255), 3)\n",
    "\n",
    "    # check to see if the output frame should be displayed to our\n",
    "    # screen\n",
    "    if display > 0:\n",
    "        # show the output frame\n",
    "        cv2.imshow(\"Frame\", frame)\n",
    "        key = cv2.waitKey(1) & 0xFF\n",
    "\n",
    "        # if the `q` key was pressed, break from the loop\n",
    "        if key == ord(\"q\"):\n",
    "            break\n",
    "\n",
    "    # if an output video file path has been supplied and the video\n",
    "    # writer has not been initialized, do so now\n",
    "    if output != \"\" and writer is None:\n",
    "        # initialize our video writer\n",
    "        fourcc = cv2.VideoWriter_fourcc(*\"MJPG\")\n",
    "        writer = cv2.VideoWriter(output, fourcc, 25, (frame.shape[1], frame.shape[0]), True)\n",
    "\n",
    "    # if the video writer is not None, write the frame to the output\n",
    "    # video file\n",
    "    if writer is not None:\n",
    "        writer.write(frame)"
   ]
  },
  {
   "cell_type": "code",
   "execution_count": null,
   "id": "1c7caf01",
   "metadata": {},
   "outputs": [],
   "source": []
  }
 ],
 "metadata": {
  "kernelspec": {
   "display_name": "Python 3",
   "language": "python",
   "name": "python3"
  },
  "language_info": {
   "codemirror_mode": {
    "name": "ipython",
    "version": 3
   },
   "file_extension": ".py",
   "mimetype": "text/x-python",
   "name": "python",
   "nbconvert_exporter": "python",
   "pygments_lexer": "ipython3",
   "version": "3.8.8"
  }
 },
 "nbformat": 4,
 "nbformat_minor": 5
}
